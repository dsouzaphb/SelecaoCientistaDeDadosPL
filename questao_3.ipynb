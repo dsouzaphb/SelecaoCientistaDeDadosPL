{
  "nbformat": 4,
  "nbformat_minor": 0,
  "metadata": {
    "kernelspec": {
      "display_name": "Python 3",
      "language": "python",
      "name": "python3"
    },
    "language_info": {
      "codemirror_mode": {
        "name": "ipython",
        "version": 3
      },
      "file_extension": ".py",
      "mimetype": "text/x-python",
      "name": "python",
      "nbconvert_exporter": "python",
      "pygments_lexer": "ipython3",
      "version": "3.9.1"
    },
    "colab": {
      "name": "questao_3.ipynb",
      "provenance": []
    }
  },
  "cells": [
    {
      "cell_type": "code",
      "metadata": {
        "id": "bNKg0PbXNVQU"
      },
      "source": [
        "import sqlite3\n",
        "import numpy as np"
      ],
      "execution_count": null,
      "outputs": []
    },
    {
      "cell_type": "code",
      "metadata": {
        "id": "gWCDxP1oNVQa"
      },
      "source": [
        "conn = sqlite3.connect('vendas.db')\n",
        "conn.execute(\"PRAGMA foreign_keys = 1\")\n",
        "cursor = conn.cursor()"
      ],
      "execution_count": null,
      "outputs": []
    },
    {
      "cell_type": "code",
      "metadata": {
        "id": "2KAjWKALNVQc",
        "outputId": "73ae34bf-af8d-45e4-89d0-52ef613f6300"
      },
      "source": [
        "print('Criando tabelas .......')\n",
        "\n",
        "\n",
        "# criando a tabela - D_TEMPO\n",
        "cursor.execute(\"\"\"\n",
        "CREATE TABLE d_Tempo (\n",
        "        ID_TEMPO INTEGER NOT NULL PRIMARY KEY AUTOINCREMENT,\n",
        "        DT_REF DATE NOT NULL,\n",
        "        NU_SEMANA INTEGER,\n",
        "        NU_MES INTEGER,\n",
        "        NU_TRIMESTRE INTEGER,\n",
        "        NU_SEMESTRE INTEGER,\n",
        "        NU_ANO INTEGER\n",
        "        );\"\"\"\n",
        "              )\n",
        "\n",
        "print('Tabela criada com sucesso.')\n",
        "cursor.execute(\"\"\"\n",
        "CREATE TABLE d_Loja (\n",
        "        ID_LOJA INTEGER NOT NULL PRIMARY KEY AUTOINCREMENT,\n",
        "        DS_NOME TEXT NOT NULL,\n",
        "        DS_UF,\n",
        "        DS_CIDADE,\n",
        "        DS_EMPRESA,\n",
        "        NU_CEP\n",
        "        );\"\"\"\n",
        "              )\n",
        "\n",
        "print('Tabela criada com sucesso.')\n",
        "\n",
        "cursor.execute(\"\"\" \n",
        "CREATE TABLE d_Pessoa (\n",
        "ID_PESSOA INTEGER NOT NULL PRIMARY KEY AUTOINCREMENT,\n",
        "NM_PESSOA TEXT NOT NULL );\"\"\"\n",
        "              )\n",
        "\n",
        "print('Tabela criada com sucesso.')\n",
        "\n",
        "\n",
        "cursor.execute(\"\"\" \n",
        "CREATE TABLE f_Vendas (\n",
        "    ID_VENDA INT AUTO_INCREMENT PRIMARY KEY,\n",
        "    VL_VENDA DOUBLE,\n",
        "    NU_VENDA INT,\n",
        "    VL_LUCRO DOUBLE,\n",
        "    VL_CUSTO DOUBLE,\n",
        "    ID_TEMPO,\n",
        "    ID_PESSOA,\n",
        "    ID_LOJA,\n",
        "    FOREIGN KEY (ID_TEMPO) REFERENCES D_TEMPO (ID_TEMPO)\n",
        "    FOREIGN KEY (ID_PESSOA) REFERENCES d_Pessoa(ID_PESSOA),\n",
        "    FOREIGN KEY (ID_LOJA) REFERENCES d_Loja(ID_LOJA)\n",
        "    )\"\"\"\n",
        "    )\n",
        "\n"
      ],
      "execution_count": null,
      "outputs": [
        {
          "output_type": "stream",
          "text": [
            "Criando tabelas .......\n",
            "Tabela criada com sucesso.\n",
            "Tabela criada com sucesso.\n",
            "Tabela criada com sucesso.\n"
          ],
          "name": "stdout"
        },
        {
          "output_type": "execute_result",
          "data": {
            "text/plain": [
              "<sqlite3.Cursor at 0x228c9b08ea0>"
            ]
          },
          "metadata": {
            "tags": []
          },
          "execution_count": 3
        }
      ]
    },
    {
      "cell_type": "code",
      "metadata": {
        "id": "jPn9HfVnNVQg"
      },
      "source": [
        "# Povoa a base de dados"
      ],
      "execution_count": null,
      "outputs": []
    },
    {
      "cell_type": "code",
      "metadata": {
        "id": "Y1jpZcjUNVQh"
      },
      "source": [
        ""
      ],
      "execution_count": null,
      "outputs": []
    },
    {
      "cell_type": "code",
      "metadata": {
        "id": "3DcsSMmmNVQi",
        "outputId": "3dafc253-9fba-4348-8863-c6a6b53e4060"
      },
      "source": [
        "# Povoando a base de dados\n",
        "conn = sqlite3.connect('vendas.db')\n",
        "conn.execute(\"PRAGMA foreign_keys = 1\")\n",
        "cursor = conn.cursor()\n",
        "\n",
        "# lista de ids e nomes:\n",
        "list_names = [(1, 'Allan'),(2, 'Rafael'), (3, 'Tony'), (4, 'Célia'), (5, 'Raí'), (6, 'Humberto'), (7, 'Joao'),\n",
        "              (8, 'Marcos'), (9, 'Euler'), (10, 'Tiago'), (11, 'José 1'), (12, 'JJ'), (13, 'Alberto')]\n",
        "\n",
        "conn.executemany(\"\"\" INSERT INTO d_Pessoa ('ID_PESSOA','NM_PESSOA') VALUES \n",
        "             (?,?);\"\"\", list_names)\n",
        "\n"
      ],
      "execution_count": null,
      "outputs": [
        {
          "output_type": "execute_result",
          "data": {
            "text/plain": [
              "<sqlite3.Cursor at 0x228c9b3f260>"
            ]
          },
          "metadata": {
            "tags": []
          },
          "execution_count": 5
        }
      ]
    },
    {
      "cell_type": "code",
      "metadata": {
        "id": "QihntOP-NVQk"
      },
      "source": [
        "### Lendo registro para conferencia\n",
        "\n",
        "\n",
        "#cursor.execute(\"\"\" select * from d_Pessoa\"\"\")\n",
        "#for linha in cursor.fetchall():\n",
        "#    print(linha)"
      ],
      "execution_count": null,
      "outputs": []
    },
    {
      "cell_type": "code",
      "metadata": {
        "id": "ywlM4T_uNVQk",
        "outputId": "e804600f-b222-4589-bcfd-9c7873e4546c"
      },
      "source": [
        "\n",
        "\n",
        "# lista de lojas\n",
        "list_lojas = [(1, 'Loja Croatá', 'CE', 'Croatá','nome empresa', 60645555),\n",
        "              (2, 'loja Anapolis 1', 'CE', 'Anapolis','nome empresa', 60845000),\n",
        "              (3, 'loja Acairé', 'CE', 'Acairé','nome empresa', 60645500), \n",
        "              (4, 'loja Anapolis 2', 'CE', 'Anapolis','nome empresa', 60645500),\n",
        "              (5, 'loja Burití', 'PI', 'Burití','nome empresa', 64645500), \n",
        "              (6, 'loja Acailandi', 'CE', 'Acailandia','nome empresa', 63645550),\n",
        "              (7, 'loja Acairé', 'CE', 'Croatá','nome empresa', 62645551),\n",
        "              (8, 'loja Acairé', 'RN', 'Croatá','nome empresa', 61645556),\n",
        "              (9, 'loja Acairé', 'MA', 'Anapurus','nome empresa', 65645557),\n",
        "              (10, 'loja Parnaiba 1', 'PI', 'Parnaiba','nome empresa', 64645585), \n",
        "              (11, 'loja Acairé', 'PA', 'Seriema','nome empresa', 63645505),\n",
        "              (12, 'loja Quixeramobim', 'CE', 'Quixeramobim','nome empresa', 61645555),\n",
        "              (13, 'loja Acairé 1', 'CE', 'Acairé','nome empresa', 62645555)]\n",
        "conn.executemany(\"\"\" INSERT INTO d_Loja ('ID_LOJA','DS_NOME', 'DS_UF', 'DS_CIDADE', 'DS_EMPRESA', 'NU_CEP') VALUES \n",
        "             (?,?,?,?,?,?);\"\"\", list_lojas)\n"
      ],
      "execution_count": null,
      "outputs": [
        {
          "output_type": "execute_result",
          "data": {
            "text/plain": [
              "<sqlite3.Cursor at 0x228c9b3f7a0>"
            ]
          },
          "metadata": {
            "tags": []
          },
          "execution_count": 7
        }
      ]
    },
    {
      "cell_type": "code",
      "metadata": {
        "id": "wv4qPRjNNVQm"
      },
      "source": [
        ""
      ],
      "execution_count": null,
      "outputs": []
    },
    {
      "cell_type": "code",
      "metadata": {
        "id": "NNtiIRI7NVQn"
      },
      "source": [
        "# lendo dados de lojas\n",
        "#cursor.execute(\"\"\" select * from d_Loja\"\"\")\n",
        "#for linha in cursor.fetchall():\n",
        "#    print(linha)"
      ],
      "execution_count": null,
      "outputs": []
    },
    {
      "cell_type": "code",
      "metadata": {
        "id": "Y2FoubjrNVQo",
        "outputId": "7389eeb7-c26e-4ec0-f316-9858e149ce92"
      },
      "source": [
        "# povoando a tabela d_tempo\n",
        "# lista de tempo\n",
        "# formato da data YYYY/MM/DD\n",
        "list_tempo = [(1, '2020/01/10', 1, 1, 1,1, 2020),\n",
        "              (2, '2020/01/10', 1, 1, 1,1, 2020),\n",
        "              (3, '2020/03/10', 2, 3, 1,1, 2020),\n",
        "              (4, '2020/01/5', 1, 1, 1,1, 2020),\n",
        "              (5, '2020/03/15', 4, 3, 1,1, 2020),\n",
        "              (6, '2020/01/16', 3, 1, 1,1, 2020),\n",
        "              (7, '2020/01/25', 1, 1, 1,1, 2020),\n",
        "              (8, '2020/01/19', 1, 1, 1,1, 2020),\n",
        "              (9, '2020/02/10', 1, 2, 1,1, 2020),\n",
        "              (10, '2020/10/10', 1, 10,4,2, 2020),\n",
        "              (11, '2020/03/11', 1, 3, 1,1, 2020),\n",
        "              (12, '2020/03/29', 1, 3, 1,1, 2020),\n",
        "              (13, '2020/03/30', 1, 3, 1,1, 2020),\n",
        "              (14, '2020/01/23', 4, 1, 1,1, 2020),\n",
        "              (15, '2020/04/30', 3, 4, 1,1, 2020)]\n",
        "conn.executemany(\"\"\" INSERT INTO d_Tempo (\n",
        "                          'ID_TEMPO','DT_REF','NU_SEMANA','NU_MES',\n",
        "                        'NU_TRIMESTRE', 'NU_SEMESTRE', 'NU_ANO')\n",
        "                     VALUES  (?,?,?,?,?,?,?);\"\"\", list_tempo)"
      ],
      "execution_count": null,
      "outputs": [
        {
          "output_type": "execute_result",
          "data": {
            "text/plain": [
              "<sqlite3.Cursor at 0x228c9b3ff80>"
            ]
          },
          "metadata": {
            "tags": []
          },
          "execution_count": 9
        }
      ]
    },
    {
      "cell_type": "code",
      "metadata": {
        "id": "rve9QX8pNVQp"
      },
      "source": [
        "list_venda = []\n",
        "for i in range(1,31):\n",
        "    vl_venda = np.random.uniform(0,10000)\n",
        "    nu_venda = i\n",
        "    vl_lucro = vl_venda - vl_venda*np.random.rand() # estipula um valor em percentual do valor total da venda\n",
        "    vl_custo = vl_venda - vl_lucro   # será sempre o valor da venda retirado o lucro(por questao de simplicidade)\n",
        "    id_loja = list_lojas[np.random.randint(1,13)][0]\n",
        "    id_tempo = list_tempo[np.random.randint(1,15)][0]\n",
        "    id_pessoa = list_names[np.random.randint(1,13)][0]\n",
        "    \n",
        "    list_venda.append((i, vl_venda,nu_venda, vl_lucro, vl_custo, id_loja, id_tempo, id_pessoa))\n",
        "    \n",
        "    \n",
        "    \n",
        "    conn.executemany(\"\"\" INSERT INTO f_Vendas (\n",
        "                          'ID_VENDA','VL_VENDA','NU_VENDA','VL_LUCRO',\n",
        "                          'VL_CUSTO', 'ID_LOJA', 'ID_TEMPO', 'ID_PESSOA')\n",
        "                     VALUES  (?,?,?,?,?,?,?,?);\"\"\", list_venda)\n",
        "    list_venda = []"
      ],
      "execution_count": null,
      "outputs": []
    },
    {
      "cell_type": "code",
      "metadata": {
        "id": "I-MpBr6ZNVQs"
      },
      "source": [
        ""
      ],
      "execution_count": null,
      "outputs": []
    },
    {
      "cell_type": "code",
      "metadata": {
        "id": "xNqsbl6-NVQs",
        "outputId": "8ed65fe5-0a4e-48e0-a099-db9eaa05c95c"
      },
      "source": [
        "# lendo dados de lojas\n",
        "\n",
        "cursor.execute(\"\"\" select * from f_vendas\"\"\")\n",
        "for linha in cursor.fetchall():\n",
        "    print(linha)"
      ],
      "execution_count": null,
      "outputs": [
        {
          "output_type": "stream",
          "text": [
            "(1, 7719.170349379147, 1, 4373.25851981907, 3345.9118295600774, 15, 8, 7)\n",
            "(2, 8768.880649271712, 2, 6161.5454191225745, 2607.3352301491377, 8, 5, 12)\n",
            "(3, 157.45334089427243, 3, 19.791506789685968, 137.66183410458646, 14, 7, 11)\n",
            "(4, 7608.434710990852, 4, 5872.360781056278, 1736.0739299345742, 6, 11, 6)\n",
            "(5, 3736.8136482521854, 5, 3223.0933020682996, 513.7203461838858, 2, 13, 10)\n",
            "(6, 5820.370040887305, 6, 1307.5489589566023, 4512.821081930702, 15, 4, 3)\n",
            "(7, 9728.896823653346, 7, 8693.323889554395, 1035.572934098951, 9, 7, 7)\n",
            "(8, 6438.178874614255, 8, 4850.460454931714, 1587.718419682541, 15, 12, 13)\n",
            "(9, 7677.7285053161, 9, 3736.0950109679206, 3941.6334943481797, 11, 3, 10)\n",
            "(10, 1593.6016846603518, 10, 725.5532534258964, 868.0484312344554, 12, 6, 5)\n",
            "(11, 1123.6429134111593, 11, 651.0325154667009, 472.6103979444583, 2, 11, 11)\n",
            "(12, 802.2417705290396, 12, 588.1190711411678, 214.12269938787188, 4, 12, 2)\n",
            "(13, 4855.826256965022, 13, 3016.024424267496, 1839.8018326975262, 6, 6, 3)\n",
            "(14, 8304.193066560483, 14, 4914.344806661067, 3389.848259899416, 11, 8, 5)\n",
            "(15, 3103.0886509017564, 15, 2245.929423401256, 857.1592275005005, 9, 11, 6)\n",
            "(16, 3345.7032790259823, 16, 285.9319146624548, 3059.7713643635275, 9, 12, 5)\n",
            "(17, 4523.211490083077, 17, 1855.1596152722173, 2668.0518748108593, 6, 6, 12)\n",
            "(18, 6405.0123922323, 18, 3042.7636058185435, 3362.2487864137565, 9, 6, 4)\n",
            "(19, 6387.4924352175585, 19, 812.1345331164084, 5575.35790210115, 10, 7, 12)\n",
            "(20, 4299.30759126907, 20, 2296.2753572442243, 2003.0322340248458, 6, 12, 2)\n",
            "(21, 9337.902486253915, 21, 1129.6701868523432, 8208.232299401572, 8, 7, 8)\n",
            "(22, 4883.625751583699, 22, 2774.3856290446624, 2109.2401225390363, 8, 3, 7)\n",
            "(23, 3234.8520163945673, 23, 2775.6788821262107, 459.17313426835653, 15, 6, 8)\n",
            "(24, 6570.276214677405, 24, 6135.143690720272, 435.13252395713243, 6, 3, 12)\n",
            "(25, 1872.684256023911, 25, 233.39950631474335, 1639.2847497091677, 11, 2, 2)\n",
            "(26, 4381.472532523379, 26, 509.70014237822033, 3871.772390145159, 8, 9, 9)\n",
            "(27, 3118.349693071245, 27, 2013.7154564206555, 1104.6342366505894, 7, 9, 13)\n",
            "(28, 4856.514183034365, 28, 2256.5800598913693, 2599.9341231429953, 10, 5, 4)\n",
            "(29, 4082.284465118827, 29, 2555.0039593898027, 1527.2805057290243, 11, 3, 6)\n",
            "(30, 737.8905292752713, 30, 48.2716258678488, 689.6189034074225, 15, 13, 11)\n"
          ],
          "name": "stdout"
        }
      ]
    },
    {
      "cell_type": "markdown",
      "metadata": {
        "id": "kFNdyTHvNVQt"
      },
      "source": [
        "\n",
        "# Resolução da questao 3"
      ]
    },
    {
      "cell_type": "markdown",
      "metadata": {
        "id": "01B7jfmjNVQu"
      },
      "source": [
        "#### 3.1 - Todas as compras realizadas no mês de janeiro de 2020 em lojas do estado do Ceará (CE)\n",
        "#### ID da pessoa\n",
        "#### Nome da pessoa\n",
        "#### Data Referência da Venda\n",
        "#### Valor da Venda\n"
      ]
    },
    {
      "cell_type": "code",
      "metadata": {
        "id": "L9gPXk6yNVQu",
        "outputId": "572cd22c-9a89-4bf6-ff19-654bde8b12bd"
      },
      "source": [
        "# 3.1\n",
        "\n",
        "##OBS:  d_tempo.NU_MES = 1 quer dizer mês de janeiro, 2, fevereiro e assim sucessivamente\n",
        "\n",
        "cursor.execute(\"\"\" SELECT f_vendas.ID_PESSOA, NM_PESSOA, DT_REF, VL_VENDA  FROM f_vendas JOIN d_tempo JOIN d_loja JOIN d_pessoa \n",
        "                            WHERE f_vendas.ID_TEMPO = d_tempo.ID_TEMPO \n",
        "                            AND f_vendas.id_loja = d_loja.ID_LOJA AND  f_vendas.ID_PESSOA = d_pessoa.ID_PESSOA\n",
        "                            AND d_tempo.NU_MES = 1 \n",
        "                            AND d_loja.DS_UF = 'CE' \"\"\")\n",
        "\n",
        "print(\"ID_pessoa, Nome, Data da venda, valor da venda\")\n",
        "for linha in cursor.fetchall():\n",
        "    print(linha) \n",
        "    \n",
        "    \n"
      ],
      "execution_count": null,
      "outputs": [
        {
          "output_type": "stream",
          "text": [
            "ID_pessoa, Nome, Data da venda, valor da venda\n",
            "(5, 'Raí', '2020/01/19', 8768.880649271712)\n",
            "(11, 'José 1', '2020/01/16', 7608.434710990852)\n",
            "(12, 'JJ', '2020/01/5', 802.2417705290396)\n",
            "(6, 'Humberto', '2020/01/16', 4855.826256965022)\n",
            "(6, 'Humberto', '2020/01/16', 4523.211490083077)\n",
            "(12, 'JJ', '2020/01/16', 4299.30759126907)\n",
            "(3, 'Tony', '2020/01/19', 4883.625751583699)\n",
            "(3, 'Tony', '2020/01/16', 6570.276214677405)\n",
            "(9, 'Euler', '2020/01/25', 3118.349693071245)\n"
          ],
          "name": "stdout"
        }
      ]
    },
    {
      "cell_type": "code",
      "metadata": {
        "id": "FrVviDfRNVQw",
        "outputId": "f10ad698-b9a6-4a97-9340-b205e0640bc1"
      },
      "source": [
        "#### 3.2 - Quantidade de compras por cliente no mês de março(3) de 2020\n",
        "#### ID da pessoa\n",
        "#### Quantidade de compras\n",
        "cursor.execute(\"\"\" SELECT f_vendas.ID_PESSOA, COUNT ( f_vendas.ID_PESSOA ) AS \"CONTAGEM DE COMPRAS POR CLIENTE\"   FROM f_vendas JOIN d_pessoa JOIN d_tempo\n",
        "                            WHERE f_vendas.ID_TEMPO = d_tempo.ID_TEMPO \n",
        "                            AND f_vendas.ID_PESSOA = d_pessoa.ID_PESSOA\n",
        "                            AND d_tempo.NU_MES != 3 \n",
        "                            AND d_tempo.NU_ANO = 2020 \n",
        "                            GROUP BY f_vendas.ID_PESSOA\"\"\")\n",
        "\n",
        "print(\"ID_PESSOA, CONTAGEM DE COMPRAS\")\n",
        "for linha in cursor.fetchall():\n",
        "    print(linha) "
      ],
      "execution_count": null,
      "outputs": [
        {
          "output_type": "stream",
          "text": [
            "ID_PESSOA, CONTAGEM DE COMPRAS\n",
            "(3, 2)\n",
            "(4, 1)\n",
            "(5, 2)\n",
            "(6, 4)\n",
            "(7, 4)\n",
            "(8, 1)\n",
            "(9, 2)\n",
            "(11, 3)\n",
            "(12, 4)\n",
            "(13, 2)\n"
          ],
          "name": "stdout"
        }
      ]
    },
    {
      "cell_type": "markdown",
      "metadata": {
        "id": "Sqj3FM7KNVQw"
      },
      "source": [
        "### 3.4 – Todos os clientes que não fizeram compras no mês de março de 2020"
      ]
    },
    {
      "cell_type": "code",
      "metadata": {
        "id": "wU4rdvy1NVQx",
        "outputId": "7b0f68b3-e5ed-4ca4-ec56-6f54fe7d43fc"
      },
      "source": [
        "\n",
        "\"\"\"   \n",
        "      O select mais interno seleciona os nomes dos compradores do mes de março (d_tempo.NU_MES = 3 ),\n",
        "      que estejam na tabela f_vendas.\n",
        "      O select externo selecionaos demais clientes que não fizeram compra em março, \n",
        "      mas que FIZERAM ALGUMA compra em outra data.\n",
        "\"\"\"\n",
        "cursor.execute(\"\"\" SELECT D_PESSOA.NM_PESSOA FROM D_PESSOA join f_vendas WHERE  f_vendas.ID_PESSOA = d_pessoa.ID_PESSOA\n",
        "                    AND D_PESSOA.NM_PESSOA    NOT IN \n",
        "                     ( SELECT d_pessoa.NM_PESSOA  FROM f_vendas JOIN d_pessoa JOIN d_tempo\n",
        "                                WHERE f_vendas.ID_TEMPO = d_tempo.ID_TEMPO \n",
        "                                AND f_vendas.ID_PESSOA = d_pessoa.ID_PESSOA\n",
        "                                AND d_tempo.NU_MES = 3 \n",
        "                                AND d_tempo.NU_ANO = 2020\n",
        "                                GROUP BY d_pessoa.NM_pessoa)\n",
        "                     GROUP BY d_pessoa.NM_pessoa\n",
        "\n",
        "                            \"\"\")\n",
        "                    \n",
        "print(\"Pessoas que compraram em outros meses, mas NÃO compraram em março de 2020\")\n",
        "for linha in cursor.fetchall():\n",
        "    print(linha) \n"
      ],
      "execution_count": null,
      "outputs": [
        {
          "output_type": "stream",
          "text": [
            "Pessoas que compraram em outros meses, mas NÃO compraram em março de 2020\n",
            "('Alberto',)\n",
            "('Célia',)\n",
            "('Euler',)\n",
            "('JJ',)\n",
            "('Joao',)\n",
            "('José 1',)\n",
            "('Raí',)\n"
          ],
          "name": "stdout"
        }
      ]
    },
    {
      "cell_type": "markdown",
      "metadata": {
        "id": "yhGwTfXRNVQz"
      },
      "source": [
        "### 3.5 – Data da última compra por cliente\n"
      ]
    },
    {
      "cell_type": "code",
      "metadata": {
        "id": "n5DZ_kbmNVQz",
        "outputId": "f47b15d6-d663-4865-92dc-248cf3de97a0"
      },
      "source": [
        "cursor.execute(\"\"\" SELECT d_pessoa.NM_PESSOA, MAX(d_tempo.DT_REF)   FROM f_vendas JOIN d_pessoa JOIN d_tempo\n",
        "                       WHERE f_vendas.ID_TEMPO = d_tempo.ID_TEMPO \n",
        "                       AND f_vendas.ID_PESSOA = d_pessoa.ID_PESSOA\n",
        "                       group by d_pessoa.ID_PESSOA\n",
        "               \"\"\")\n",
        "                    \n",
        "print(\"Pessoas que compraram em outros meses, mas NÃO compraram em março de 2020\")\n",
        "for linha in cursor.fetchall():\n",
        "    print(linha) "
      ],
      "execution_count": null,
      "outputs": [
        {
          "output_type": "stream",
          "text": [
            "Pessoas que compraram em outros meses, mas NÃO compraram em março de 2020\n",
            "('Rafael', '2020/03/11')\n",
            "('Tony', '2020/03/11')\n",
            "('Célia', '2020/04/30')\n",
            "('Raí', '2020/10/10')\n",
            "('Humberto', '2020/04/30')\n",
            "('Joao', '2020/10/10')\n",
            "('Marcos', '2020/04/30')\n",
            "('Euler', '2020/01/25')\n",
            "('José 1', '2020/02/10')\n",
            "('JJ', '2020/04/30')\n",
            "('Alberto', '2020/04/30')\n"
          ],
          "name": "stdout"
        }
      ]
    },
    {
      "cell_type": "code",
      "metadata": {
        "id": "KwbPlltSNVQ0"
      },
      "source": [
        ""
      ],
      "execution_count": null,
      "outputs": []
    },
    {
      "cell_type": "code",
      "metadata": {
        "id": "nrh5DBR_NVQ1"
      },
      "source": [
        ""
      ],
      "execution_count": null,
      "outputs": []
    }
  ]
}