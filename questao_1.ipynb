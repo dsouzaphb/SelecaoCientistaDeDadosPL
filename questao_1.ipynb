{
  "nbformat": 4,
  "nbformat_minor": 0,
  "metadata": {
    "kernelspec": {
      "display_name": "Python 3",
      "language": "python",
      "name": "python3"
    },
    "language_info": {
      "codemirror_mode": {
        "name": "ipython",
        "version": 3
      },
      "file_extension": ".py",
      "mimetype": "text/x-python",
      "name": "python",
      "nbconvert_exporter": "python",
      "pygments_lexer": "ipython3",
      "version": "3.9.1"
    },
    "colab": {
      "name": "questao_1.ipynb",
      "provenance": []
    }
  },
  "cells": [
    {
      "cell_type": "code",
      "metadata": {
        "id": "j602Spg0NTM_"
      },
      "source": [
        "import pandas as pd\n",
        "import numpy as np\n",
        "import matplotlib.pyplot as plt"
      ],
      "execution_count": null,
      "outputs": []
    },
    {
      "cell_type": "code",
      "metadata": {
        "id": "j3GkVAFsNTNS"
      },
      "source": [
        "df = pd. read_csv(\"Questão 1 - Base.txt\", sep=\"\\t\")"
      ],
      "execution_count": null,
      "outputs": []
    },
    {
      "cell_type": "code",
      "metadata": {
        "id": "sj1fIHa8NTNU"
      },
      "source": [
        "df.index = pd.to_datetime(df['DT_VENCIMENTO'], infer_datetime_format=True)\n"
      ],
      "execution_count": null,
      "outputs": []
    },
    {
      "cell_type": "code",
      "metadata": {
        "id": "jEuM4kWwNTNV"
      },
      "source": [
        "# tranforma a coluna DT_VENCIMENTO em index do dataset\n",
        "df_dtime = df.index\n"
      ],
      "execution_count": null,
      "outputs": []
    },
    {
      "cell_type": "code",
      "metadata": {
        "id": "ax5CjtNSNTNX"
      },
      "source": [
        "# Exclui a columa(variavel) DT_VENCIMENTO, pois agora ela é o index\n",
        "df.drop(columns = ['DT_VENCIMENTO'], inplace = True)"
      ],
      "execution_count": null,
      "outputs": []
    },
    {
      "cell_type": "code",
      "metadata": {
        "id": "vilmAFQHNTNY"
      },
      "source": [
        "# Converte a variável DS_ROLAGEM em texto(string)\n",
        "df['DS_ROLAGEM'] = df['DS_ROLAGEM'].astype(str)"
      ],
      "execution_count": null,
      "outputs": []
    },
    {
      "cell_type": "code",
      "metadata": {
        "id": "d1yq-ehBNTNZ"
      },
      "source": [
        "# Filtra dados dos meses, exceto setembro (sem setembro)\n",
        "df_ss = df[df.index.month != 9]"
      ],
      "execution_count": null,
      "outputs": []
    },
    {
      "cell_type": "code",
      "metadata": {
        "id": "W2SgQEN6NTNa"
      },
      "source": [
        "# Filta os dados em relação à variável DS_ROLAGEM\n",
        "df_ss_fx0 = df_ss.DS_ROLAGEM == 'FX0'\n",
        "df_ss_fx1 = df_ss.DS_ROLAGEM == 'FX1'\n",
        "df_ss_fx0 = df_ss[df_ss_fx0]\n",
        "df_ss_fx1 = df_ss[df_ss_fx1]"
      ],
      "execution_count": null,
      "outputs": []
    },
    {
      "cell_type": "code",
      "metadata": {
        "id": "gRA3nsj0NTNc"
      },
      "source": [
        "\n",
        "g = df_ss.groupby(df_ss.index.month) # Total geral\n",
        "gfx0 = df_ss_fx0.groupby(df_ss_fx0.index.month) # Total de faturas pagas\n",
        "gfx1 = df_ss_fx1.groupby(df_ss_fx1.index.month) # Total de faturas não pagas\n",
        "\n",
        "total = g.count()"
      ],
      "execution_count": null,
      "outputs": []
    },
    {
      "cell_type": "code",
      "metadata": {
        "id": "vxRUpaWQNTNd",
        "outputId": "19c3173f-a7e9-48d1-ce93-97b500603134"
      },
      "source": [
        "# as variáveis fxX_percent_mes com tem os percentuais de faturas pagas(FX0) e nao Pagas(FX1).\n",
        "\n",
        "fx0_percent_mes = gfx0.DS_ROLAGEM.count()/total.DS_ROLAGEM*100\n",
        "\n",
        "fx1_percent_mes = pd.DataFrame(gfx1.DS_ROLAGEM.count()/ total.DS_ROLAGEM*100)\n",
        "fx1_percent_mes.rename(columns = {'DS_ROLAGEM':'Porcentagem'}, inplace = True)\n",
        "fx1_percent_mes.index.rename('Mes', inplace = True)\n",
        "fx1_percent_mes"
      ],
      "execution_count": null,
      "outputs": [
        {
          "output_type": "execute_result",
          "data": {
            "text/html": [
              "<div>\n",
              "<style scoped>\n",
              "    .dataframe tbody tr th:only-of-type {\n",
              "        vertical-align: middle;\n",
              "    }\n",
              "\n",
              "    .dataframe tbody tr th {\n",
              "        vertical-align: top;\n",
              "    }\n",
              "\n",
              "    .dataframe thead th {\n",
              "        text-align: right;\n",
              "    }\n",
              "</style>\n",
              "<table border=\"1\" class=\"dataframe\">\n",
              "  <thead>\n",
              "    <tr style=\"text-align: right;\">\n",
              "      <th></th>\n",
              "      <th>Porcentagem</th>\n",
              "    </tr>\n",
              "    <tr>\n",
              "      <th>Mes</th>\n",
              "      <th></th>\n",
              "    </tr>\n",
              "  </thead>\n",
              "  <tbody>\n",
              "    <tr>\n",
              "      <th>1</th>\n",
              "      <td>7.286611</td>\n",
              "    </tr>\n",
              "    <tr>\n",
              "      <th>2</th>\n",
              "      <td>8.898547</td>\n",
              "    </tr>\n",
              "    <tr>\n",
              "      <th>3</th>\n",
              "      <td>10.878634</td>\n",
              "    </tr>\n",
              "    <tr>\n",
              "      <th>4</th>\n",
              "      <td>8.394800</td>\n",
              "    </tr>\n",
              "    <tr>\n",
              "      <th>5</th>\n",
              "      <td>10.044556</td>\n",
              "    </tr>\n",
              "    <tr>\n",
              "      <th>6</th>\n",
              "      <td>8.534790</td>\n",
              "    </tr>\n",
              "    <tr>\n",
              "      <th>7</th>\n",
              "      <td>9.613888</td>\n",
              "    </tr>\n",
              "    <tr>\n",
              "      <th>8</th>\n",
              "      <td>9.063069</td>\n",
              "    </tr>\n",
              "  </tbody>\n",
              "</table>\n",
              "</div>"
            ],
            "text/plain": [
              "     Porcentagem\n",
              "Mes             \n",
              "1       7.286611\n",
              "2       8.898547\n",
              "3      10.878634\n",
              "4       8.394800\n",
              "5      10.044556\n",
              "6       8.534790\n",
              "7       9.613888\n",
              "8       9.063069"
            ]
          },
          "metadata": {
            "tags": []
          },
          "execution_count": 168
        }
      ]
    },
    {
      "cell_type": "markdown",
      "metadata": {
        "id": "yGX4Ob_ONTNi"
      },
      "source": [
        "# QUESTÃO\n",
        "## 1.1 – Qual o percentual de faturas emitidas por mês no qual os clientes não pagaram a fatura anterior?\n",
        "## Resposta:\n",
        "## Quando a variável RS_ROLAGEM tem valor FX1, foi o més no qual os clientes não pagaram a fatura anterior, entao faz-se a contagem mês a mês. "
      ]
    },
    {
      "cell_type": "code",
      "metadata": {
        "id": "OpMBM0DvNTNk",
        "outputId": "3539c135-151e-414a-c69d-c77f662295e8"
      },
      "source": [
        "# um Gráfico mostrando o pedido na questão e mais a baixo os dados impressos\n",
        "plt.figure(figsize=(10,4))\n",
        "plt.plot(fx1_percent_mes)\n",
        "plt.plot(fx1_percent_mes,'yo')\n",
        "plt.ylim(0,15) # \n",
        "plt.xlabel('Mês')\n",
        "plt.ylabel('Porcentual em %')\n",
        "plt.title('Valor total de porcentagem de cada mês')\n",
        "\n",
        "plt.figure(figsize=(10,4))\n",
        "plt.bar(fx1_percent_mes.index,fx1_percent_mes.Porcentagem )\n",
        "plt.xlabel('Mês')\n",
        "plt.ylabel('Porcentual em %')\n",
        "plt.title('Valor total de porcentagem de cada mês')"
      ],
      "execution_count": null,
      "outputs": [
        {
          "output_type": "execute_result",
          "data": {
            "text/plain": [
              "Text(0.5, 1.0, 'Valor total de porcentagem de cada mês')"
            ]
          },
          "metadata": {
            "tags": []
          },
          "execution_count": 171
        },
        {
          "output_type": "display_data",
          "data": {
            "image/png": "[encoded data removed]",
            "text/plain": [
              "<Figure size 720x288 with 1 Axes>"
            ]
          },
          "metadata": {
            "tags": [],
            "needs_background": "light"
          }
        },
        {
          "output_type": "display_data",
          "data": {
            "image/png": "[encoded data removed]",
            "text/plain": [
              "<Figure size 720x288 with 1 Axes>"
            ]
          },
          "metadata": {
            "tags": [],
            "needs_background": "light"
          }
        }
      ]
    },
    {
      "cell_type": "code",
      "metadata": {
        "id": "N8sBratWNTNl",
        "outputId": "6ea0320d-e0a7-45c3-f626-33e05c9260c4"
      },
      "source": [
        "print('\\nRepresentação em tabela.\\n')\n",
        "print(fx1_percent_mes.to_markdown())"
      ],
      "execution_count": null,
      "outputs": [
        {
          "output_type": "stream",
          "text": [
            "\n",
            "Representação em tabela.\n",
            "\n",
            "|   Mes |   Porcentagem |\n",
            "|------:|--------------:|\n",
            "|     1 |       7.28661 |\n",
            "|     2 |       8.89855 |\n",
            "|     3 |      10.8786  |\n",
            "|     4 |       8.3948  |\n",
            "|     5 |      10.0446  |\n",
            "|     6 |       8.53479 |\n",
            "|     7 |       9.61389 |\n",
            "|     8 |       9.06307 |\n"
          ],
          "name": "stdout"
        }
      ]
    },
    {
      "cell_type": "code",
      "metadata": {
        "id": "1vYCXUIsNTNm"
      },
      "source": [
        ""
      ],
      "execution_count": null,
      "outputs": []
    },
    {
      "cell_type": "markdown",
      "metadata": {
        "id": "pop_tIGBNTNn"
      },
      "source": [
        "## Questao 1.2\n",
        "#### 1.2 – Tendo como referência todos os clientes que tiveram fatura emitida no mês de setembro, gere uma base para esses clientes com os seguintes calculados:\n",
        "#### • Total de faturas emitidas nos últimos 6 meses (sem contar com a fatura de setembro);\n",
        "#### • O valor médio de fatura nos últimos 6 meses (sem contar com a fatura de setembro);\n",
        "#### • Quantidade de vezes que ele ficou sem pagar a fatura anterior nos últimos 6 meses (sem contar com a fatura de setembro). \n",
        " \n"
      ]
    },
    {
      "cell_type": "markdown",
      "metadata": {
        "id": "-vNls7J7NTNo"
      },
      "source": [
        "##  Base de dados completa"
      ]
    },
    {
      "cell_type": "code",
      "metadata": {
        "id": "9-67y-ESNTNp",
        "outputId": "4dff6780-53a8-4990-98fb-23bfb80e39d0"
      },
      "source": [
        "df.head()"
      ],
      "execution_count": null,
      "outputs": [
        {
          "output_type": "execute_result",
          "data": {
            "text/html": [
              "<div>\n",
              "<style scoped>\n",
              "    .dataframe tbody tr th:only-of-type {\n",
              "        vertical-align: middle;\n",
              "    }\n",
              "\n",
              "    .dataframe tbody tr th {\n",
              "        vertical-align: top;\n",
              "    }\n",
              "\n",
              "    .dataframe thead th {\n",
              "        text-align: right;\n",
              "    }\n",
              "</style>\n",
              "<table border=\"1\" class=\"dataframe\">\n",
              "  <thead>\n",
              "    <tr style=\"text-align: right;\">\n",
              "      <th></th>\n",
              "      <th>ID_CONTA</th>\n",
              "      <th>DS_ROLAGEM</th>\n",
              "      <th>VL_FATURA</th>\n",
              "    </tr>\n",
              "    <tr>\n",
              "      <th>DT_VENCIMENTO</th>\n",
              "      <th></th>\n",
              "      <th></th>\n",
              "      <th></th>\n",
              "    </tr>\n",
              "  </thead>\n",
              "  <tbody>\n",
              "    <tr>\n",
              "      <th>2019-01-01</th>\n",
              "      <td>402467</td>\n",
              "      <td>FX0</td>\n",
              "      <td>210.00</td>\n",
              "    </tr>\n",
              "    <tr>\n",
              "      <th>2019-01-01</th>\n",
              "      <td>403001</td>\n",
              "      <td>FX1</td>\n",
              "      <td>1097.18</td>\n",
              "    </tr>\n",
              "    <tr>\n",
              "      <th>2019-01-01</th>\n",
              "      <td>403499</td>\n",
              "      <td>FX0</td>\n",
              "      <td>1209.88</td>\n",
              "    </tr>\n",
              "    <tr>\n",
              "      <th>2019-01-01</th>\n",
              "      <td>403670</td>\n",
              "      <td>FX0</td>\n",
              "      <td>667.40</td>\n",
              "    </tr>\n",
              "    <tr>\n",
              "      <th>2019-01-01</th>\n",
              "      <td>404183</td>\n",
              "      <td>FX1</td>\n",
              "      <td>1239.52</td>\n",
              "    </tr>\n",
              "  </tbody>\n",
              "</table>\n",
              "</div>"
            ],
            "text/plain": [
              "               ID_CONTA DS_ROLAGEM  VL_FATURA\n",
              "DT_VENCIMENTO                                \n",
              "2019-01-01       402467        FX0     210.00\n",
              "2019-01-01       403001        FX1    1097.18\n",
              "2019-01-01       403499        FX0    1209.88\n",
              "2019-01-01       403670        FX0     667.40\n",
              "2019-01-01       404183        FX1    1239.52"
            ]
          },
          "metadata": {
            "tags": []
          },
          "execution_count": 173
        }
      ]
    },
    {
      "cell_type": "code",
      "metadata": {
        "id": "p8gKYqpZNTNp"
      },
      "source": [
        "# Itera nos seis meses anteriores á setembro, de março(3) até agosto(8) e soma.\n",
        "contagem_faturas = 0\n",
        "# ultimos seis meses começando em agosto até março\n",
        "for i in range(3,9):\n",
        "    mes = df[df.index.month == i]\n",
        "    qtd_mes = mes.count().VL_FATURA\n",
        "    contagem_faturas = contagem_faturas + qtd_mes\n",
        "\n",
        "    \n",
        "# segue abaixo outra forma de seleção dos ultimos seis meses\n"
      ],
      "execution_count": null,
      "outputs": []
    },
    {
      "cell_type": "markdown",
      "metadata": {
        "id": "_xAkGbBENTNq"
      },
      "source": [
        "## • Total de faturas emitidas nos últimos 6 meses (sem contar com a fatura de setembro);"
      ]
    },
    {
      "cell_type": "markdown",
      "metadata": {
        "id": "MmnV482wNTNr"
      },
      "source": [
        "## • O valor médio de fatura nos últimos 6 meses (sem contar com a fatura de setembro);"
      ]
    },
    {
      "cell_type": "code",
      "metadata": {
        "id": "-PyAasJrNTNs"
      },
      "source": [
        "# o index é a data portanto selecionar os meses 3 à 9 de um dataframe\n",
        "# ou seja, em um intervalo de meses.\n",
        "meses = df[(df.index.month > 2) & (df.index.month <9) ]\n",
        "qtd_faturas_ult6meses = meses.groupby(meses.ID_CONTA).count().DS_ROLAGEM"
      ],
      "execution_count": null,
      "outputs": []
    },
    {
      "cell_type": "code",
      "metadata": {
        "id": "ZkBjvS2DNTNt"
      },
      "source": [
        ""
      ],
      "execution_count": null,
      "outputs": []
    },
    {
      "cell_type": "code",
      "metadata": {
        "id": "hWCNBs5RNTNt",
        "outputId": "58c28894-a1d4-454b-e293-d8267eefe44a"
      },
      "source": [
        "# resume a contagem simples de faturas dos ultimos 6 meses para cada conta\n",
        "meses['QTD_FATURAS_ULT6MESES'] = meses[[\"ID_CONTA\"]].groupby(meses.ID_CONTA).transform('count')"
      ],
      "execution_count": null,
      "outputs": [
        {
          "output_type": "stream",
          "text": [
            "<ipython-input-178-00bd23a56a15>:2: SettingWithCopyWarning: \n",
            "A value is trying to be set on a copy of a slice from a DataFrame.\n",
            "Try using .loc[row_indexer,col_indexer] = value instead\n",
            "\n",
            "See the caveats in the documentation: https://pandas.pydata.org/pandas-docs/stable/user_guide/indexing.html#returning-a-view-versus-a-copy\n",
            "  meses['QTD_FATURAS_ULT6MESES'] = meses[[\"ID_CONTA\"]].groupby(meses.ID_CONTA).transform('count')\n"
          ],
          "name": "stderr"
        }
      ]
    },
    {
      "cell_type": "code",
      "metadata": {
        "id": "eDG4DBMPNTNv",
        "outputId": "0df52b7f-6b92-4740-9c33-e6e654d8bb85"
      },
      "source": [
        "# resume o valor médio de faturas dos ultimos 6 meses para cada conta\n",
        "meses['VL_MEDIO_FATURA']   =  meses[\"VL_FATURA\"].groupby(meses.ID_CONTA).transform(\"mean\")"
      ],
      "execution_count": null,
      "outputs": [
        {
          "output_type": "stream",
          "text": [
            "<ipython-input-179-f55e005b454b>:2: SettingWithCopyWarning: \n",
            "A value is trying to be set on a copy of a slice from a DataFrame.\n",
            "Try using .loc[row_indexer,col_indexer] = value instead\n",
            "\n",
            "See the caveats in the documentation: https://pandas.pydata.org/pandas-docs/stable/user_guide/indexing.html#returning-a-view-versus-a-copy\n",
            "  meses['VL_MEDIO_FATURA']   =  meses[\"VL_FATURA\"].groupby(meses.ID_CONTA).transform(\"mean\")\n"
          ],
          "name": "stderr"
        }
      ]
    },
    {
      "cell_type": "markdown",
      "metadata": {
        "id": "ar-8STjYNTNx"
      },
      "source": [
        "#### RESPOSTAS dos dois itens anteriores, as colunas QTD_FATURAS_ULT6MESES e VL_MEDIO_FATURA respectivamente"
      ]
    },
    {
      "cell_type": "code",
      "metadata": {
        "id": "_sKXxgVrNTNy"
      },
      "source": [
        "meses.index = meses.ID_CONTA\n",
        "meses.index.rename('ID', inplace=True)\n",
        "\n",
        "meses = meses.drop_duplicates(subset = [\"ID_CONTA\"])"
      ],
      "execution_count": null,
      "outputs": []
    },
    {
      "cell_type": "code",
      "metadata": {
        "id": "-8Edv7qvNTNz",
        "outputId": "f9588c1a-dcbc-49a5-9fcb-d92065e36b4a"
      },
      "source": [
        "meses"
      ],
      "execution_count": null,
      "outputs": [
        {
          "output_type": "execute_result",
          "data": {
            "text/html": [
              "<div>\n",
              "<style scoped>\n",
              "    .dataframe tbody tr th:only-of-type {\n",
              "        vertical-align: middle;\n",
              "    }\n",
              "\n",
              "    .dataframe tbody tr th {\n",
              "        vertical-align: top;\n",
              "    }\n",
              "\n",
              "    .dataframe thead th {\n",
              "        text-align: right;\n",
              "    }\n",
              "</style>\n",
              "<table border=\"1\" class=\"dataframe\">\n",
              "  <thead>\n",
              "    <tr style=\"text-align: right;\">\n",
              "      <th></th>\n",
              "      <th>ID_CONTA</th>\n",
              "      <th>DS_ROLAGEM</th>\n",
              "      <th>VL_FATURA</th>\n",
              "      <th>QTD_FATURAS_ULT6MESES</th>\n",
              "      <th>VL_MEDIO_FATURA</th>\n",
              "    </tr>\n",
              "    <tr>\n",
              "      <th>ID</th>\n",
              "      <th></th>\n",
              "      <th></th>\n",
              "      <th></th>\n",
              "      <th></th>\n",
              "      <th></th>\n",
              "    </tr>\n",
              "  </thead>\n",
              "  <tbody>\n",
              "    <tr>\n",
              "      <th>1624902</th>\n",
              "      <td>1624902</td>\n",
              "      <td>FX0</td>\n",
              "      <td>226.62</td>\n",
              "      <td>4</td>\n",
              "      <td>424.060000</td>\n",
              "    </tr>\n",
              "    <tr>\n",
              "      <th>1624908</th>\n",
              "      <td>1624908</td>\n",
              "      <td>FX0</td>\n",
              "      <td>921.09</td>\n",
              "      <td>6</td>\n",
              "      <td>1188.201667</td>\n",
              "    </tr>\n",
              "    <tr>\n",
              "      <th>1624916</th>\n",
              "      <td>1624916</td>\n",
              "      <td>FX0</td>\n",
              "      <td>1456.75</td>\n",
              "      <td>6</td>\n",
              "      <td>686.988333</td>\n",
              "    </tr>\n",
              "    <tr>\n",
              "      <th>1624951</th>\n",
              "      <td>1624951</td>\n",
              "      <td>FX0</td>\n",
              "      <td>70.11</td>\n",
              "      <td>6</td>\n",
              "      <td>179.858333</td>\n",
              "    </tr>\n",
              "    <tr>\n",
              "      <th>1624975</th>\n",
              "      <td>1624975</td>\n",
              "      <td>FX0</td>\n",
              "      <td>49.05</td>\n",
              "      <td>4</td>\n",
              "      <td>82.590000</td>\n",
              "    </tr>\n",
              "    <tr>\n",
              "      <th>...</th>\n",
              "      <td>...</td>\n",
              "      <td>...</td>\n",
              "      <td>...</td>\n",
              "      <td>...</td>\n",
              "      <td>...</td>\n",
              "    </tr>\n",
              "    <tr>\n",
              "      <th>1706813</th>\n",
              "      <td>1706813</td>\n",
              "      <td>FX0</td>\n",
              "      <td>78.77</td>\n",
              "      <td>1</td>\n",
              "      <td>78.770000</td>\n",
              "    </tr>\n",
              "    <tr>\n",
              "      <th>1706815</th>\n",
              "      <td>1706815</td>\n",
              "      <td>FX0</td>\n",
              "      <td>378.37</td>\n",
              "      <td>1</td>\n",
              "      <td>378.370000</td>\n",
              "    </tr>\n",
              "    <tr>\n",
              "      <th>1706817</th>\n",
              "      <td>1706817</td>\n",
              "      <td>FX0</td>\n",
              "      <td>175.78</td>\n",
              "      <td>1</td>\n",
              "      <td>175.780000</td>\n",
              "    </tr>\n",
              "    <tr>\n",
              "      <th>1706819</th>\n",
              "      <td>1706819</td>\n",
              "      <td>FX0</td>\n",
              "      <td>458.63</td>\n",
              "      <td>1</td>\n",
              "      <td>458.630000</td>\n",
              "    </tr>\n",
              "    <tr>\n",
              "      <th>1706820</th>\n",
              "      <td>1706820</td>\n",
              "      <td>FX0</td>\n",
              "      <td>68.43</td>\n",
              "      <td>1</td>\n",
              "      <td>68.430000</td>\n",
              "    </tr>\n",
              "  </tbody>\n",
              "</table>\n",
              "<p>411711 rows × 5 columns</p>\n",
              "</div>"
            ],
            "text/plain": [
              "         ID_CONTA DS_ROLAGEM  VL_FATURA  QTD_FATURAS_ULT6MESES  \\\n",
              "ID                                                               \n",
              "1624902   1624902        FX0     226.62                      4   \n",
              "1624908   1624908        FX0     921.09                      6   \n",
              "1624916   1624916        FX0    1456.75                      6   \n",
              "1624951   1624951        FX0      70.11                      6   \n",
              "1624975   1624975        FX0      49.05                      4   \n",
              "...           ...        ...        ...                    ...   \n",
              "1706813   1706813        FX0      78.77                      1   \n",
              "1706815   1706815        FX0     378.37                      1   \n",
              "1706817   1706817        FX0     175.78                      1   \n",
              "1706819   1706819        FX0     458.63                      1   \n",
              "1706820   1706820        FX0      68.43                      1   \n",
              "\n",
              "         VL_MEDIO_FATURA  \n",
              "ID                        \n",
              "1624902       424.060000  \n",
              "1624908      1188.201667  \n",
              "1624916       686.988333  \n",
              "1624951       179.858333  \n",
              "1624975        82.590000  \n",
              "...                  ...  \n",
              "1706813        78.770000  \n",
              "1706815       378.370000  \n",
              "1706817       175.780000  \n",
              "1706819       458.630000  \n",
              "1706820        68.430000  \n",
              "\n",
              "[411711 rows x 5 columns]"
            ]
          },
          "metadata": {
            "tags": []
          },
          "execution_count": 181
        }
      ]
    },
    {
      "cell_type": "code",
      "metadata": {
        "id": "sYEcJIrzNTNz",
        "outputId": "2f2829db-959b-49b7-ef5a-dcbcba9a6b3c"
      },
      "source": [
        "plt.figure(figsize=(10,5))#figsize=(15,5)\n",
        "plt.plot(meses.iloc[:,3],'.') #Coluna de contagem\n",
        "plt.xlabel('ID da conta')\n",
        "plt.ylabel('Contagem\\n  QTD_FATURAS_ULT6MESES')\n",
        "plt.title('Número de fatura dos ultimos 6 meses.')"
      ],
      "execution_count": null,
      "outputs": [
        {
          "output_type": "execute_result",
          "data": {
            "text/plain": [
              "Text(0.5, 1.0, 'Número de fatura dos ultimos 6 meses.')"
            ]
          },
          "metadata": {
            "tags": []
          },
          "execution_count": 182
        },
        {
          "output_type": "display_data",
          "data": {
            "image/png": "[encoded data removed]",
            "text/plain": [
              "<Figure size 720x360 with 1 Axes>"
            ]
          },
          "metadata": {
            "tags": [],
            "needs_background": "light"
          }
        }
      ]
    },
    {
      "cell_type": "code",
      "metadata": {
        "id": "Ti-RmdbiNTN0",
        "outputId": "4e4fd7a6-04f6-4818-ac00-a9e16f5a4844"
      },
      "source": [
        "##### plt.figure()\n",
        "plt.figure(figsize=(15,5))\n",
        "plt.plot(meses.iloc[:,4],'.') #Coluna valores médios\n",
        "plt.xlabel('ID da conta')\n",
        "plt.ylabel('VL_MEDIO_FATURA ($)')\n",
        "plt.title('Valor médio de faturas de cada conta.')"
      ],
      "execution_count": null,
      "outputs": [
        {
          "output_type": "execute_result",
          "data": {
            "text/plain": [
              "Text(0.5, 1.0, 'Valor médio de faturas de cada conta.')"
            ]
          },
          "metadata": {
            "tags": []
          },
          "execution_count": 183
        },
        {
          "output_type": "display_data",
          "data": {
            "image/png": "[encoded data removed]",
            "text/plain": [
              "<Figure size 1080x360 with 1 Axes>"
            ]
          },
          "metadata": {
            "tags": [],
            "needs_background": "light"
          }
        }
      ]
    },
    {
      "cell_type": "markdown",
      "metadata": {
        "id": "C-pg6MxtNTN1"
      },
      "source": [
        "## • Quantidade de vezes que ele ficou sem pagar a fatura anterior nos últimos 6 meses (sem contar com a fatura de setembro)."
      ]
    },
    {
      "cell_type": "code",
      "metadata": {
        "id": "ECm0_NX9NTN2",
        "outputId": "fc3b8f62-2c9d-4f7f-8759-4e1019dec4e3"
      },
      "source": [
        "# Novamente usa-se a seleção de internvalo de meses anterior está na variável meses\n",
        "# contendo dados dos ultimos seis meses, em que a variável DS_ROLAGEM na base de dados\n",
        "# contiver o valor FX1 quer dizer que nao foi paga a ultima fatura.\n",
        "# faz-se uma contagem de ocorrencia de FX1.\n",
        "meses = meses.drop_duplicates(subset=['ID_CONTA'])\n",
        "meses"
      ],
      "execution_count": null,
      "outputs": [
        {
          "output_type": "execute_result",
          "data": {
            "text/html": [
              "<div>\n",
              "<style scoped>\n",
              "    .dataframe tbody tr th:only-of-type {\n",
              "        vertical-align: middle;\n",
              "    }\n",
              "\n",
              "    .dataframe tbody tr th {\n",
              "        vertical-align: top;\n",
              "    }\n",
              "\n",
              "    .dataframe thead th {\n",
              "        text-align: right;\n",
              "    }\n",
              "</style>\n",
              "<table border=\"1\" class=\"dataframe\">\n",
              "  <thead>\n",
              "    <tr style=\"text-align: right;\">\n",
              "      <th></th>\n",
              "      <th>ID_CONTA</th>\n",
              "      <th>DS_ROLAGEM</th>\n",
              "      <th>VL_FATURA</th>\n",
              "      <th>QTD_FATURAS_ULT6MESES</th>\n",
              "      <th>VL_MEDIO_FATURA</th>\n",
              "    </tr>\n",
              "    <tr>\n",
              "      <th>ID</th>\n",
              "      <th></th>\n",
              "      <th></th>\n",
              "      <th></th>\n",
              "      <th></th>\n",
              "      <th></th>\n",
              "    </tr>\n",
              "  </thead>\n",
              "  <tbody>\n",
              "    <tr>\n",
              "      <th>1624902</th>\n",
              "      <td>1624902</td>\n",
              "      <td>FX0</td>\n",
              "      <td>226.62</td>\n",
              "      <td>4</td>\n",
              "      <td>424.060000</td>\n",
              "    </tr>\n",
              "    <tr>\n",
              "      <th>1624908</th>\n",
              "      <td>1624908</td>\n",
              "      <td>FX0</td>\n",
              "      <td>921.09</td>\n",
              "      <td>6</td>\n",
              "      <td>1188.201667</td>\n",
              "    </tr>\n",
              "    <tr>\n",
              "      <th>1624916</th>\n",
              "      <td>1624916</td>\n",
              "      <td>FX0</td>\n",
              "      <td>1456.75</td>\n",
              "      <td>6</td>\n",
              "      <td>686.988333</td>\n",
              "    </tr>\n",
              "    <tr>\n",
              "      <th>1624951</th>\n",
              "      <td>1624951</td>\n",
              "      <td>FX0</td>\n",
              "      <td>70.11</td>\n",
              "      <td>6</td>\n",
              "      <td>179.858333</td>\n",
              "    </tr>\n",
              "    <tr>\n",
              "      <th>1624975</th>\n",
              "      <td>1624975</td>\n",
              "      <td>FX0</td>\n",
              "      <td>49.05</td>\n",
              "      <td>4</td>\n",
              "      <td>82.590000</td>\n",
              "    </tr>\n",
              "    <tr>\n",
              "      <th>...</th>\n",
              "      <td>...</td>\n",
              "      <td>...</td>\n",
              "      <td>...</td>\n",
              "      <td>...</td>\n",
              "      <td>...</td>\n",
              "    </tr>\n",
              "    <tr>\n",
              "      <th>1706813</th>\n",
              "      <td>1706813</td>\n",
              "      <td>FX0</td>\n",
              "      <td>78.77</td>\n",
              "      <td>1</td>\n",
              "      <td>78.770000</td>\n",
              "    </tr>\n",
              "    <tr>\n",
              "      <th>1706815</th>\n",
              "      <td>1706815</td>\n",
              "      <td>FX0</td>\n",
              "      <td>378.37</td>\n",
              "      <td>1</td>\n",
              "      <td>378.370000</td>\n",
              "    </tr>\n",
              "    <tr>\n",
              "      <th>1706817</th>\n",
              "      <td>1706817</td>\n",
              "      <td>FX0</td>\n",
              "      <td>175.78</td>\n",
              "      <td>1</td>\n",
              "      <td>175.780000</td>\n",
              "    </tr>\n",
              "    <tr>\n",
              "      <th>1706819</th>\n",
              "      <td>1706819</td>\n",
              "      <td>FX0</td>\n",
              "      <td>458.63</td>\n",
              "      <td>1</td>\n",
              "      <td>458.630000</td>\n",
              "    </tr>\n",
              "    <tr>\n",
              "      <th>1706820</th>\n",
              "      <td>1706820</td>\n",
              "      <td>FX0</td>\n",
              "      <td>68.43</td>\n",
              "      <td>1</td>\n",
              "      <td>68.430000</td>\n",
              "    </tr>\n",
              "  </tbody>\n",
              "</table>\n",
              "<p>411711 rows × 5 columns</p>\n",
              "</div>"
            ],
            "text/plain": [
              "         ID_CONTA DS_ROLAGEM  VL_FATURA  QTD_FATURAS_ULT6MESES  \\\n",
              "ID                                                               \n",
              "1624902   1624902        FX0     226.62                      4   \n",
              "1624908   1624908        FX0     921.09                      6   \n",
              "1624916   1624916        FX0    1456.75                      6   \n",
              "1624951   1624951        FX0      70.11                      6   \n",
              "1624975   1624975        FX0      49.05                      4   \n",
              "...           ...        ...        ...                    ...   \n",
              "1706813   1706813        FX0      78.77                      1   \n",
              "1706815   1706815        FX0     378.37                      1   \n",
              "1706817   1706817        FX0     175.78                      1   \n",
              "1706819   1706819        FX0     458.63                      1   \n",
              "1706820   1706820        FX0      68.43                      1   \n",
              "\n",
              "         VL_MEDIO_FATURA  \n",
              "ID                        \n",
              "1624902       424.060000  \n",
              "1624908      1188.201667  \n",
              "1624916       686.988333  \n",
              "1624951       179.858333  \n",
              "1624975        82.590000  \n",
              "...                  ...  \n",
              "1706813        78.770000  \n",
              "1706815       378.370000  \n",
              "1706817       175.780000  \n",
              "1706819       458.630000  \n",
              "1706820        68.430000  \n",
              "\n",
              "[411711 rows x 5 columns]"
            ]
          },
          "metadata": {
            "tags": []
          },
          "execution_count": 184
        }
      ]
    },
    {
      "cell_type": "code",
      "metadata": {
        "id": "MKlkvGpUNTN3"
      },
      "source": [
        "# resume a quantidade de faturas que o cliente nao pagou nos ultimos seis meses, para cada conta\n",
        "#meses['QTD_FATURAS_ULT_6M_FX1'] = meses[(meses.DS_ROLAGEM == 'FX1')][['DS_ROLAGEM','ID_CONTA']].groupby(['ID_CONTA']).transform('count')\n",
        "\n",
        "#meses.index = meses.ID_CONTA\n",
        "#meses.drop('ID_CONTA',axis=1, inplace=True)\n",
        "meses = df[(df.index.month > 2) & (df.index.month <9) ]\n",
        "\n",
        "meses.index = meses.ID_CONTA\n",
        "meses.index.rename('ID', inplace=True)\n",
        "\n",
        "qtd_fx1 = meses[(meses.DS_ROLAGEM == 'FX1')][['DS_ROLAGEM','ID_CONTA']].groupby(['ID_CONTA']).transform('count')\n",
        "qtd_fx1.rename(columns = {'DS_ROLAGEM': 'QTD_FATURAS_ULT_6M_FX1'},inplace = True)\n",
        "#qtd_fx1"
      ],
      "execution_count": null,
      "outputs": []
    },
    {
      "cell_type": "code",
      "metadata": {
        "id": "Rs2nhSJBNTN4",
        "outputId": "3bd3ca1c-b9fc-4bca-c7e9-bbb65c62de89"
      },
      "source": [
        "qtd_fx1"
      ],
      "execution_count": null,
      "outputs": [
        {
          "output_type": "execute_result",
          "data": {
            "text/html": [
              "<div>\n",
              "<style scoped>\n",
              "    .dataframe tbody tr th:only-of-type {\n",
              "        vertical-align: middle;\n",
              "    }\n",
              "\n",
              "    .dataframe tbody tr th {\n",
              "        vertical-align: top;\n",
              "    }\n",
              "\n",
              "    .dataframe thead th {\n",
              "        text-align: right;\n",
              "    }\n",
              "</style>\n",
              "<table border=\"1\" class=\"dataframe\">\n",
              "  <thead>\n",
              "    <tr style=\"text-align: right;\">\n",
              "      <th></th>\n",
              "      <th>QTD_FATURAS_ULT_6M_FX1</th>\n",
              "    </tr>\n",
              "    <tr>\n",
              "      <th>ID</th>\n",
              "      <th></th>\n",
              "    </tr>\n",
              "  </thead>\n",
              "  <tbody>\n",
              "    <tr>\n",
              "      <th>1625050</th>\n",
              "      <td>1</td>\n",
              "    </tr>\n",
              "    <tr>\n",
              "      <th>1625077</th>\n",
              "      <td>1</td>\n",
              "    </tr>\n",
              "    <tr>\n",
              "      <th>1625166</th>\n",
              "      <td>3</td>\n",
              "    </tr>\n",
              "    <tr>\n",
              "      <th>1685104</th>\n",
              "      <td>1</td>\n",
              "    </tr>\n",
              "    <tr>\n",
              "      <th>1685153</th>\n",
              "      <td>1</td>\n",
              "    </tr>\n",
              "    <tr>\n",
              "      <th>...</th>\n",
              "      <td>...</td>\n",
              "    </tr>\n",
              "    <tr>\n",
              "      <th>1670992</th>\n",
              "      <td>1</td>\n",
              "    </tr>\n",
              "    <tr>\n",
              "      <th>1671001</th>\n",
              "      <td>1</td>\n",
              "    </tr>\n",
              "    <tr>\n",
              "      <th>1624754</th>\n",
              "      <td>3</td>\n",
              "    </tr>\n",
              "    <tr>\n",
              "      <th>1624841</th>\n",
              "      <td>2</td>\n",
              "    </tr>\n",
              "    <tr>\n",
              "      <th>1624871</th>\n",
              "      <td>1</td>\n",
              "    </tr>\n",
              "  </tbody>\n",
              "</table>\n",
              "<p>173735 rows × 1 columns</p>\n",
              "</div>"
            ],
            "text/plain": [
              "         QTD_FATURAS_ULT_6M_FX1\n",
              "ID                             \n",
              "1625050                       1\n",
              "1625077                       1\n",
              "1625166                       3\n",
              "1685104                       1\n",
              "1685153                       1\n",
              "...                         ...\n",
              "1670992                       1\n",
              "1671001                       1\n",
              "1624754                       3\n",
              "1624841                       2\n",
              "1624871                       1\n",
              "\n",
              "[173735 rows x 1 columns]"
            ]
          },
          "metadata": {
            "tags": []
          },
          "execution_count": 191
        }
      ]
    },
    {
      "cell_type": "code",
      "metadata": {
        "id": "5n6XMTQzNTN5",
        "outputId": "70e88aea-3e10-4b0b-aa0a-892487f5e462"
      },
      "source": [
        "qtd_fx1['ID_CONTA'] = qtd_fx1.index\n",
        "qtd_fx1 = qtd_fx1.drop_duplicates(subset = [\"ID_CONTA\"])\n",
        "qtd_fx1.reset_index()"
      ],
      "execution_count": null,
      "outputs": [
        {
          "output_type": "execute_result",
          "data": {
            "text/html": [
              "<div>\n",
              "<style scoped>\n",
              "    .dataframe tbody tr th:only-of-type {\n",
              "        vertical-align: middle;\n",
              "    }\n",
              "\n",
              "    .dataframe tbody tr th {\n",
              "        vertical-align: top;\n",
              "    }\n",
              "\n",
              "    .dataframe thead th {\n",
              "        text-align: right;\n",
              "    }\n",
              "</style>\n",
              "<table border=\"1\" class=\"dataframe\">\n",
              "  <thead>\n",
              "    <tr style=\"text-align: right;\">\n",
              "      <th></th>\n",
              "      <th>ID</th>\n",
              "      <th>QTD_FATURAS_ULT_6M_FX1</th>\n",
              "      <th>ID_CONTA</th>\n",
              "    </tr>\n",
              "  </thead>\n",
              "  <tbody>\n",
              "    <tr>\n",
              "      <th>0</th>\n",
              "      <td>1625050</td>\n",
              "      <td>1</td>\n",
              "      <td>1625050</td>\n",
              "    </tr>\n",
              "    <tr>\n",
              "      <th>1</th>\n",
              "      <td>1625077</td>\n",
              "      <td>1</td>\n",
              "      <td>1625077</td>\n",
              "    </tr>\n",
              "    <tr>\n",
              "      <th>2</th>\n",
              "      <td>1625166</td>\n",
              "      <td>3</td>\n",
              "      <td>1625166</td>\n",
              "    </tr>\n",
              "    <tr>\n",
              "      <th>3</th>\n",
              "      <td>1685104</td>\n",
              "      <td>1</td>\n",
              "      <td>1685104</td>\n",
              "    </tr>\n",
              "    <tr>\n",
              "      <th>4</th>\n",
              "      <td>1685153</td>\n",
              "      <td>1</td>\n",
              "      <td>1685153</td>\n",
              "    </tr>\n",
              "    <tr>\n",
              "      <th>...</th>\n",
              "      <td>...</td>\n",
              "      <td>...</td>\n",
              "      <td>...</td>\n",
              "    </tr>\n",
              "    <tr>\n",
              "      <th>135258</th>\n",
              "      <td>1670871</td>\n",
              "      <td>1</td>\n",
              "      <td>1670871</td>\n",
              "    </tr>\n",
              "    <tr>\n",
              "      <th>135259</th>\n",
              "      <td>1670913</td>\n",
              "      <td>1</td>\n",
              "      <td>1670913</td>\n",
              "    </tr>\n",
              "    <tr>\n",
              "      <th>135260</th>\n",
              "      <td>1670992</td>\n",
              "      <td>1</td>\n",
              "      <td>1670992</td>\n",
              "    </tr>\n",
              "    <tr>\n",
              "      <th>135261</th>\n",
              "      <td>1671001</td>\n",
              "      <td>1</td>\n",
              "      <td>1671001</td>\n",
              "    </tr>\n",
              "    <tr>\n",
              "      <th>135262</th>\n",
              "      <td>1624871</td>\n",
              "      <td>1</td>\n",
              "      <td>1624871</td>\n",
              "    </tr>\n",
              "  </tbody>\n",
              "</table>\n",
              "<p>135263 rows × 3 columns</p>\n",
              "</div>"
            ],
            "text/plain": [
              "             ID  QTD_FATURAS_ULT_6M_FX1  ID_CONTA\n",
              "0       1625050                       1   1625050\n",
              "1       1625077                       1   1625077\n",
              "2       1625166                       3   1625166\n",
              "3       1685104                       1   1685104\n",
              "4       1685153                       1   1685153\n",
              "...         ...                     ...       ...\n",
              "135258  1670871                       1   1670871\n",
              "135259  1670913                       1   1670913\n",
              "135260  1670992                       1   1670992\n",
              "135261  1671001                       1   1671001\n",
              "135262  1624871                       1   1624871\n",
              "\n",
              "[135263 rows x 3 columns]"
            ]
          },
          "metadata": {
            "tags": []
          },
          "execution_count": 192
        }
      ]
    },
    {
      "cell_type": "code",
      "metadata": {
        "id": "4vsnRPS5NTN6",
        "outputId": "d9c0fa64-bfe8-44e3-83a4-96a28717763c"
      },
      "source": [
        "plt.figure(figsize=(15,7))\n",
        "plt.plot(qtd_fx1.iloc[:,1], qtd_fx1.QTD_FATURAS_ULT_6M_FX1 , '.')\n",
        "plt.ylim(0,7)\n",
        "plt.xlabel('ID da conta')\n",
        "plt.ylabel('Qtd faturas')\n",
        "plt.title('Número de faturas não foi paga de cada conta\\n nos ultimos seis meses, exceto setembro.')"
      ],
      "execution_count": null,
      "outputs": [
        {
          "output_type": "execute_result",
          "data": {
            "text/plain": [
              "Text(0.5, 1.0, 'Número de faturas não foi paga de cada conta\\n nos ultimos seis meses, exceto setembro.')"
            ]
          },
          "metadata": {
            "tags": []
          },
          "execution_count": 193
        },
        {
          "output_type": "display_data",
          "data": {
            "image/png": "[encoded data removed]",
            "text/plain": [
              "<Figure size 1080x504 with 1 Axes>"
            ]
          },
          "metadata": {
            "tags": [],
            "needs_background": "light"
          }
        }
      ]
    },
    {
      "cell_type": "code",
      "metadata": {
        "id": "L2XPFb1QNTN7"
      },
      "source": [
        ""
      ],
      "execution_count": null,
      "outputs": []
    }
  ]
}