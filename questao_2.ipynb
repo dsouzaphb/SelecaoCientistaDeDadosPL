{
  "nbformat": 4,
  "nbformat_minor": 0,
  "metadata": {
    "kernelspec": {
      "display_name": "Python 3",
      "language": "python",
      "name": "python3"
    },
    "language_info": {
      "codemirror_mode": {
        "name": "ipython",
        "version": 3
      },
      "file_extension": ".py",
      "mimetype": "text/x-python",
      "name": "python",
      "nbconvert_exporter": "python",
      "pygments_lexer": "ipython3",
      "version": "3.9.1"
    },
    "colab": {
      "name": "questao_2.ipynb",
      "provenance": [],
      "collapsed_sections": []
    }
  },
  "cells": [
    {
      "cell_type": "markdown",
      "metadata": {
        "id": "cAIIpi-FoZQJ"
      },
      "source": [
        "## Questão 2"
      ]
    },
    {
      "cell_type": "code",
      "metadata": {
        "id": "ee8IJjqCoZQW"
      },
      "source": [
        "import pandas as pd\n",
        "import numpy as np\n",
        "import matplotlib.pyplot as plt"
      ],
      "execution_count": null,
      "outputs": []
    },
    {
      "cell_type": "markdown",
      "metadata": {
        "id": "G289t04ToZQY"
      },
      "source": [
        "### Dados\n",
        "#### Questão 2 - Base 1.txt"
      ]
    },
    {
      "cell_type": "code",
      "metadata": {
        "id": "PCZ7QggSoZQZ"
      },
      "source": [
        "dfq2b1 = pd. read_csv(\"Questão 2 - Base 1.txt\", sep=\"\\t\")"
      ],
      "execution_count": null,
      "outputs": []
    },
    {
      "cell_type": "code",
      "metadata": {
        "id": "xs7_ogZUoZQa"
      },
      "source": [
        "#Transforma a data no indice da base de dados\n",
        "dfq2b1.index = pd.to_datetime(dfq2b1['DT_ACORDO'], infer_datetime_format=True)"
      ],
      "execution_count": null,
      "outputs": []
    },
    {
      "cell_type": "code",
      "metadata": {
        "id": "pnm1ySgioZQb"
      },
      "source": [
        "dfq2b1.drop(columns = ['DT_ACORDO'],inplace = True)"
      ],
      "execution_count": null,
      "outputs": []
    },
    {
      "cell_type": "code",
      "metadata": {
        "id": "mdO0gxwAoZQc",
        "outputId": "3f899562-26c4-4c83-f684-b9ff05a6564d"
      },
      "source": [
        "# Faixa de atraso\n",
        "# DEFINIÇÃO: Acordo é uma proposta de negociação da dívida por parte da Crefis_ para clientes que estão com mais de 180 dias de atraso.\n",
        "# definindo como faixa de atraso um intervalo de 60 dias, resultando em 6 faixas de atraso.\n",
        "#  inferido da observação dos dados, onde NU_DIAS_ATRASO minimo na base de dados é 181 e maximo 540\n",
        "dfq2b1.NU_DIAS_ATRASO.min(), dfq2b1.NU_DIAS_ATRASO.max()"
      ],
      "execution_count": null,
      "outputs": [
        {
          "output_type": "execute_result",
          "data": {
            "text/plain": [
              "(181, 540)"
            ]
          },
          "metadata": {
            "tags": []
          },
          "execution_count": 6
        }
      ]
    },
    {
      "cell_type": "code",
      "metadata": {
        "id": "PTDIhi8ZoZQg"
      },
      "source": [
        "#fx_Atraso = [180,540]\n",
        "fx_atraso_1 = dfq2b1[(dfq2b1.NU_DIAS_ATRASO > 180) & (dfq2b1.NU_DIAS_ATRASO < 241)]\n",
        "fx_atraso_2 = dfq2b1[(dfq2b1.NU_DIAS_ATRASO > 240) & (dfq2b1.NU_DIAS_ATRASO < 301)]\n",
        "fx_atraso_3 = dfq2b1[(dfq2b1.NU_DIAS_ATRASO > 300) & (dfq2b1.NU_DIAS_ATRASO < 361)]\n",
        "fx_atraso_4 = dfq2b1[(dfq2b1.NU_DIAS_ATRASO > 360) & (dfq2b1.NU_DIAS_ATRASO < 421)]\n",
        "fx_atraso_5 = dfq2b1[(dfq2b1.NU_DIAS_ATRASO > 420) & (dfq2b1.NU_DIAS_ATRASO < 481)]\n",
        "fx_atraso_6 = dfq2b1[(dfq2b1.NU_DIAS_ATRASO > 480) & (dfq2b1.NU_DIAS_ATRASO < 541)]\n",
        "\n",
        "\n",
        "fx_atraso_1_positivo = dfq2b1[(dfq2b1.NU_DIAS_ATRASO > 180) & (dfq2b1.NU_DIAS_ATRASO < 241) & (dfq2b1.RESPOSTA == 1) ]\n",
        "fx_atraso_2_positivo = dfq2b1[(dfq2b1.NU_DIAS_ATRASO > 240) & (dfq2b1.NU_DIAS_ATRASO < 301) & (dfq2b1.RESPOSTA == 1) ]\n",
        "fx_atraso_3_positivo = dfq2b1[(dfq2b1.NU_DIAS_ATRASO > 300) & (dfq2b1.NU_DIAS_ATRASO < 361) & (dfq2b1.RESPOSTA == 1) ]\n",
        "fx_atraso_4_positivo = dfq2b1[(dfq2b1.NU_DIAS_ATRASO > 360) & (dfq2b1.NU_DIAS_ATRASO < 421) & (dfq2b1.RESPOSTA == 1) ]\n",
        "fx_atraso_5_positivo = dfq2b1[(dfq2b1.NU_DIAS_ATRASO > 420) & (dfq2b1.NU_DIAS_ATRASO < 481) & (dfq2b1.RESPOSTA == 1) ]\n",
        "fx_atraso_6_positivo = dfq2b1[(dfq2b1.NU_DIAS_ATRASO > 480) & (dfq2b1.NU_DIAS_ATRASO < 541) & (dfq2b1.RESPOSTA == 1) ]"
      ],
      "execution_count": null,
      "outputs": []
    },
    {
      "cell_type": "code",
      "metadata": {
        "id": "ZbyxxvjmoZQi"
      },
      "source": [
        "# Para a faixa de 180 à 240 dias\n",
        "\n",
        "gfx_atraso_1 = fx_atraso_1.groupby(fx_atraso_1.index.month)\n",
        "gfx_atraso_1_pos = fx_atraso_1_positivo.groupby(fx_atraso_1_positivo.index.month)\n",
        "\n",
        "gfx_atraso_2 = fx_atraso_2.groupby(fx_atraso_2.index.month)\n",
        "gfx_atraso_2_pos = fx_atraso_2_positivo.groupby(fx_atraso_2_positivo.index.month)\n",
        "\n",
        "gfx_atraso_3 = fx_atraso_3.groupby(fx_atraso_3.index.month)\n",
        "gfx_atraso_3_pos = fx_atraso_3_positivo.groupby(fx_atraso_3_positivo.index.month)\n",
        "\n",
        "gfx_atraso_4 = fx_atraso_4.groupby(fx_atraso_4.index.month)\n",
        "gfx_atraso_4_pos = fx_atraso_4_positivo.groupby(fx_atraso_4_positivo.index.month)\n",
        "\n",
        "gfx_atraso_5 = fx_atraso_5.groupby(fx_atraso_5.index.month)\n",
        "gfx_atraso_5_pos = fx_atraso_5_positivo.groupby(fx_atraso_5_positivo.index.month)\n",
        "\n",
        "gfx_atraso_6 = fx_atraso_6.groupby(fx_atraso_6.index.month)\n",
        "gfx_atraso_6_pos = fx_atraso_6_positivo.groupby(fx_atraso_6_positivo.index.month)\n",
        "\n"
      ],
      "execution_count": null,
      "outputs": []
    },
    {
      "cell_type": "code",
      "metadata": {
        "id": "sht3T3E8oZQk",
        "outputId": "f71cc506-b43c-4399-d0ba-820db165049c"
      },
      "source": [
        "fx_1 = pd.DataFrame((gfx_atraso_1_pos.count().ID_CONTA/gfx_atraso_1.count().ID_CONTA)*100)\n",
        "fx_1.index.rename('MES', inplace = True)\n",
        "fx_1.rename(columns={'ID_CONTA':'Porcentgem'}, inplace=True)\n",
        "fx_1.Porcentgem\n"
      ],
      "execution_count": null,
      "outputs": [
        {
          "output_type": "execute_result",
          "data": {
            "text/plain": [
              "MES\n",
              "3      2.089864\n",
              "4     30.041152\n",
              "6      3.947904\n",
              "11     3.488757\n",
              "Name: Porcentgem, dtype: float64"
            ]
          },
          "metadata": {
            "tags": []
          },
          "execution_count": 58
        }
      ]
    },
    {
      "cell_type": "code",
      "metadata": {
        "id": "u8rgZ_9WoZQl",
        "outputId": "d130201c-7af6-423f-e205-c9f9850ec70f"
      },
      "source": [
        "fx_2 = pd.DataFrame((gfx_atraso_2_pos.count().ID_CONTA/gfx_atraso_2.count().ID_CONTA)*100)\n",
        "fx_2.index.rename('MES', inplace = True)\n",
        "fx_2.rename(columns={'ID_CONTA':'Porcentgem'}, inplace=True)\n",
        "fx_2"
      ],
      "execution_count": null,
      "outputs": [
        {
          "output_type": "execute_result",
          "data": {
            "text/html": [
              "<div>\n",
              "<style scoped>\n",
              "    .dataframe tbody tr th:only-of-type {\n",
              "        vertical-align: middle;\n",
              "    }\n",
              "\n",
              "    .dataframe tbody tr th {\n",
              "        vertical-align: top;\n",
              "    }\n",
              "\n",
              "    .dataframe thead th {\n",
              "        text-align: right;\n",
              "    }\n",
              "</style>\n",
              "<table border=\"1\" class=\"dataframe\">\n",
              "  <thead>\n",
              "    <tr style=\"text-align: right;\">\n",
              "      <th></th>\n",
              "      <th>Porcentgem</th>\n",
              "    </tr>\n",
              "    <tr>\n",
              "      <th>MES</th>\n",
              "      <th></th>\n",
              "    </tr>\n",
              "  </thead>\n",
              "  <tbody>\n",
              "    <tr>\n",
              "      <th>3</th>\n",
              "      <td>1.514683</td>\n",
              "    </tr>\n",
              "    <tr>\n",
              "      <th>4</th>\n",
              "      <td>33.838384</td>\n",
              "    </tr>\n",
              "    <tr>\n",
              "      <th>6</th>\n",
              "      <td>3.511450</td>\n",
              "    </tr>\n",
              "    <tr>\n",
              "      <th>11</th>\n",
              "      <td>3.342449</td>\n",
              "    </tr>\n",
              "  </tbody>\n",
              "</table>\n",
              "</div>"
            ],
            "text/plain": [
              "     Porcentgem\n",
              "MES            \n",
              "3      1.514683\n",
              "4     33.838384\n",
              "6      3.511450\n",
              "11     3.342449"
            ]
          },
          "metadata": {
            "tags": []
          },
          "execution_count": 43
        }
      ]
    },
    {
      "cell_type": "code",
      "metadata": {
        "id": "s5lA6NfJoZQo",
        "outputId": "42dedf59-659a-40c2-c876-7e7b008ca9d7"
      },
      "source": [
        "fx_3 = pd.DataFrame((gfx_atraso_3_pos.count().ID_CONTA/gfx_atraso_3.count().ID_CONTA)*100)\n",
        "fx_3.index.rename('MES', inplace = True)\n",
        "fx_3.rename(columns={'ID_CONTA':'Porcentgem'}, inplace=True)\n",
        "fx_3"
      ],
      "execution_count": null,
      "outputs": [
        {
          "output_type": "execute_result",
          "data": {
            "text/html": [
              "<div>\n",
              "<style scoped>\n",
              "    .dataframe tbody tr th:only-of-type {\n",
              "        vertical-align: middle;\n",
              "    }\n",
              "\n",
              "    .dataframe tbody tr th {\n",
              "        vertical-align: top;\n",
              "    }\n",
              "\n",
              "    .dataframe thead th {\n",
              "        text-align: right;\n",
              "    }\n",
              "</style>\n",
              "<table border=\"1\" class=\"dataframe\">\n",
              "  <thead>\n",
              "    <tr style=\"text-align: right;\">\n",
              "      <th></th>\n",
              "      <th>Porcentgem</th>\n",
              "    </tr>\n",
              "    <tr>\n",
              "      <th>MES</th>\n",
              "      <th></th>\n",
              "    </tr>\n",
              "  </thead>\n",
              "  <tbody>\n",
              "    <tr>\n",
              "      <th>3</th>\n",
              "      <td>1.171408</td>\n",
              "    </tr>\n",
              "    <tr>\n",
              "      <th>4</th>\n",
              "      <td>38.650307</td>\n",
              "    </tr>\n",
              "    <tr>\n",
              "      <th>6</th>\n",
              "      <td>2.999824</td>\n",
              "    </tr>\n",
              "    <tr>\n",
              "      <th>11</th>\n",
              "      <td>2.905569</td>\n",
              "    </tr>\n",
              "  </tbody>\n",
              "</table>\n",
              "</div>"
            ],
            "text/plain": [
              "     Porcentgem\n",
              "MES            \n",
              "3      1.171408\n",
              "4     38.650307\n",
              "6      2.999824\n",
              "11     2.905569"
            ]
          },
          "metadata": {
            "tags": []
          },
          "execution_count": 44
        }
      ]
    },
    {
      "cell_type": "code",
      "metadata": {
        "id": "l8DYvddFoZQp",
        "outputId": "89a199a6-7fa1-4c85-acbc-2f7160487116"
      },
      "source": [
        "fx_4 = pd.DataFrame((gfx_atraso_4_pos.count().ID_CONTA/gfx_atraso_4.count().ID_CONTA)*100)\n",
        "fx_4.index.rename('MES', inplace = True)\n",
        "fx_4.rename(columns={'ID_CONTA':'Porcentgem'}, inplace=True)\n",
        "fx_4"
      ],
      "execution_count": null,
      "outputs": [
        {
          "output_type": "execute_result",
          "data": {
            "text/html": [
              "<div>\n",
              "<style scoped>\n",
              "    .dataframe tbody tr th:only-of-type {\n",
              "        vertical-align: middle;\n",
              "    }\n",
              "\n",
              "    .dataframe tbody tr th {\n",
              "        vertical-align: top;\n",
              "    }\n",
              "\n",
              "    .dataframe thead th {\n",
              "        text-align: right;\n",
              "    }\n",
              "</style>\n",
              "<table border=\"1\" class=\"dataframe\">\n",
              "  <thead>\n",
              "    <tr style=\"text-align: right;\">\n",
              "      <th></th>\n",
              "      <th>Porcentgem</th>\n",
              "    </tr>\n",
              "    <tr>\n",
              "      <th>MES</th>\n",
              "      <th></th>\n",
              "    </tr>\n",
              "  </thead>\n",
              "  <tbody>\n",
              "    <tr>\n",
              "      <th>3</th>\n",
              "      <td>1.235133</td>\n",
              "    </tr>\n",
              "    <tr>\n",
              "      <th>4</th>\n",
              "      <td>32.673267</td>\n",
              "    </tr>\n",
              "    <tr>\n",
              "      <th>6</th>\n",
              "      <td>2.686052</td>\n",
              "    </tr>\n",
              "  </tbody>\n",
              "</table>\n",
              "</div>"
            ],
            "text/plain": [
              "     Porcentgem\n",
              "MES            \n",
              "3      1.235133\n",
              "4     32.673267\n",
              "6      2.686052"
            ]
          },
          "metadata": {
            "tags": []
          },
          "execution_count": 45
        }
      ]
    },
    {
      "cell_type": "code",
      "metadata": {
        "id": "GwT1vWnYoZQp",
        "outputId": "1392deaa-7e4b-4000-f899-cbb22fe1ba4a"
      },
      "source": [
        "fx_5=pd.DataFrame((gfx_atraso_5_pos.count().ID_CONTA/gfx_atraso_5.count().ID_CONTA)*100)\n",
        "fx_5.index.rename('MES', inplace = True)\n",
        "fx_5.rename(columns={'ID_CONTA':'Porcentgem'}, inplace=True)\n",
        "fx_5"
      ],
      "execution_count": null,
      "outputs": [
        {
          "output_type": "execute_result",
          "data": {
            "text/html": [
              "<div>\n",
              "<style scoped>\n",
              "    .dataframe tbody tr th:only-of-type {\n",
              "        vertical-align: middle;\n",
              "    }\n",
              "\n",
              "    .dataframe tbody tr th {\n",
              "        vertical-align: top;\n",
              "    }\n",
              "\n",
              "    .dataframe thead th {\n",
              "        text-align: right;\n",
              "    }\n",
              "</style>\n",
              "<table border=\"1\" class=\"dataframe\">\n",
              "  <thead>\n",
              "    <tr style=\"text-align: right;\">\n",
              "      <th></th>\n",
              "      <th>Porcentgem</th>\n",
              "    </tr>\n",
              "    <tr>\n",
              "      <th>MES</th>\n",
              "      <th></th>\n",
              "    </tr>\n",
              "  </thead>\n",
              "  <tbody>\n",
              "    <tr>\n",
              "      <th>3</th>\n",
              "      <td>1.629328</td>\n",
              "    </tr>\n",
              "    <tr>\n",
              "      <th>4</th>\n",
              "      <td>41.176471</td>\n",
              "    </tr>\n",
              "    <tr>\n",
              "      <th>6</th>\n",
              "      <td>2.290890</td>\n",
              "    </tr>\n",
              "  </tbody>\n",
              "</table>\n",
              "</div>"
            ],
            "text/plain": [
              "     Porcentgem\n",
              "MES            \n",
              "3      1.629328\n",
              "4     41.176471\n",
              "6      2.290890"
            ]
          },
          "metadata": {
            "tags": []
          },
          "execution_count": 46
        }
      ]
    },
    {
      "cell_type": "code",
      "metadata": {
        "id": "0L14vj9OoZQq",
        "outputId": "560a412d-a078-4613-af84-3565c62ff8d7"
      },
      "source": [
        "fx_6 = pd.DataFrame((gfx_atraso_6_pos.count().ID_CONTA/gfx_atraso_6.count().ID_CONTA)*100)\n",
        "fx_6.index.rename('MES', inplace = True)\n",
        "fx_6.rename(columns={'ID_CONTA':'Porcentgem'}, inplace=True)\n",
        "fx_6"
      ],
      "execution_count": null,
      "outputs": [
        {
          "output_type": "execute_result",
          "data": {
            "text/html": [
              "<div>\n",
              "<style scoped>\n",
              "    .dataframe tbody tr th:only-of-type {\n",
              "        vertical-align: middle;\n",
              "    }\n",
              "\n",
              "    .dataframe tbody tr th {\n",
              "        vertical-align: top;\n",
              "    }\n",
              "\n",
              "    .dataframe thead th {\n",
              "        text-align: right;\n",
              "    }\n",
              "</style>\n",
              "<table border=\"1\" class=\"dataframe\">\n",
              "  <thead>\n",
              "    <tr style=\"text-align: right;\">\n",
              "      <th></th>\n",
              "      <th>Porcentgem</th>\n",
              "    </tr>\n",
              "    <tr>\n",
              "      <th>MES</th>\n",
              "      <th></th>\n",
              "    </tr>\n",
              "  </thead>\n",
              "  <tbody>\n",
              "    <tr>\n",
              "      <th>3</th>\n",
              "      <td>0.839714</td>\n",
              "    </tr>\n",
              "    <tr>\n",
              "      <th>4</th>\n",
              "      <td>50.000000</td>\n",
              "    </tr>\n",
              "    <tr>\n",
              "      <th>6</th>\n",
              "      <td>1.848185</td>\n",
              "    </tr>\n",
              "  </tbody>\n",
              "</table>\n",
              "</div>"
            ],
            "text/plain": [
              "     Porcentgem\n",
              "MES            \n",
              "3      0.839714\n",
              "4     50.000000\n",
              "6      1.848185"
            ]
          },
          "metadata": {
            "tags": []
          },
          "execution_count": 47
        }
      ]
    },
    {
      "cell_type": "markdown",
      "metadata": {
        "id": "jowPkInzoZQr"
      },
      "source": [
        "## Resposta 2.1\n",
        "#### 2.1 – Qual o percentual de adesão mensal por faixa de atraso (Histórico)? "
      ]
    },
    {
      "cell_type": "markdown",
      "metadata": {
        "id": "TWnLy_PFoZQs"
      },
      "source": [
        "# As colunas são as faixas de atraso, contantdo 60 dias cada faixa\n",
        "# OBS: meses não mostrados nao possuem atraso. A partir da 4ª faixa em diante somente 3 meses contém atraso\n",
        "\n",
        "#  MÊS  | [181, 240] | [241, 300] | [301, 360] | [361, 420] | [421,480 ] | [481, 560]\n",
        "## 3       2.089864     1.514683     1.171408      1.235133    1.629328      0.839714\n",
        "## 4      30.041152    33.838384    38.650307     32.673267   41.176471     50.000000\n",
        "## 6       3.947904     3.511450     2.999824      2.686052    2.290890      1.848185\n",
        "## 11      3.488757     3.342449     2.905569       -----       -----       -------"
      ]
    },
    {
      "cell_type": "markdown",
      "metadata": {
        "id": "yJ7jmCwmNGaE"
      },
      "source": [
        "# Nova seção"
      ]
    },
    {
      "cell_type": "markdown",
      "metadata": {
        "id": "OjhpXdOXoZQs"
      },
      "source": [
        "## Gráfico"
      ]
    },
    {
      "cell_type": "code",
      "metadata": {
        "id": "KjSnXKLeoZQt",
        "outputId": "9e7070ce-7c5b-4f90-8398-6e22b0d918cb"
      },
      "source": [
        "\n",
        "\n",
        "plt.figure()\n",
        "X = fx_1.index\n",
        "X1 = fx_4.index\n",
        "fig = plt.figure()\n",
        "ax = fig.add_axes([0,0,1,1])\n",
        "plt.title('Porcentagem em cada Faixa de atraso nos meses: 3, 4, 6 e 11')\n",
        "plt.xlabel('Mês')\n",
        "plt.ylabel('Porcentagem')\n",
        "ax.bar(X + 0.00, fx_1.Porcentgem, color = 'b', width = 0.175)\n",
        "ax.bar(X + 0.15, fx_2.Porcentgem, color = 'g', width = 0.175)\n",
        "ax.bar(X + 0.30, fx_3.Porcentgem, color = 'r', width = 0.175)\n",
        "ax.bar(X1 + 0.45, fx_4.Porcentgem, color = 'c', width = 0.175)\n",
        "ax.bar(X1 + 0.60, fx_5.Porcentgem, color = 'k', width = 0.175)\n",
        "ax.bar(X1 + 0.75, fx_6.Porcentgem, color = 'y', width = 0.175)\n",
        "ax.legend(labels=['Faixa Atraso dias [181, 240]' ,'Faixa Atraso dias [241, 300]','Faixa Atraso dias [301, 360]','Faixa Atraso dias [361, 420]',\n",
        "                  'Faixa Atraso dias [421,480 ]','Faixa Atraso dias [481, 560]'])\n",
        "\n",
        "\n"
      ],
      "execution_count": null,
      "outputs": [
        {
          "output_type": "execute_result",
          "data": {
            "text/plain": [
              "<matplotlib.legend.Legend at 0x2645933a970>"
            ]
          },
          "metadata": {
            "tags": []
          },
          "execution_count": 130
        },
        {
          "output_type": "display_data",
          "data": {
            "text/plain": [
              "<Figure size 432x288 with 0 Axes>"
            ]
          },
          "metadata": {
            "tags": []
          }
        },
        {
          "output_type": "display_data",
          "data": {
            "image/png": "[encoded data removed]",
            "text/plain": [
              "<Figure size 432x288 with 1 Axes>"
            ]
          },
          "metadata": {
            "tags": [],
            "needs_background": "light"
          }
        }
      ]
    },
    {
      "cell_type": "code",
      "metadata": {
        "id": "30T99u6SoZQv"
      },
      "source": [
        "#2.2 – Qual modelo você utilizaria para traçar uma estratégia objetivando o aumento da adesão dos acordos? (Descreva a técnica utilizada)\n",
        "\n",
        "# Eu usuaria uma Regressão Logistica. A técnica é comuumente usado para problemas classificação, como a modelagem da probabilidade \n",
        "# de uma amostra pertencer a classe 1 dado x , que pode ser escrita para este caso como: Pr(pagamento = Sim|X). A função F que faz a transformação das variáveis \n",
        "# de entrada em uma probabilidadeé dada por: F(x) = (e^(Beta_0 + Beta*X^T))/1+ e^(Beta_0 + Beta*X^T), onde Beta pertence ao conjunto do Reais.\n",
        "# A função F é também conhecida como sigmoid, note que independente do valor de X, F(X) é limitada no intervalo [0,1]. Uma das características dessa equação é que a\n",
        "# saída varia em apenas um sentido quando se aumenta o valor de uma das variáveis, indicado pelo sinal do coeficiente de Beta correspondente a ela (por exemplo, se X_1\n",
        "# representa a variável idade, e Beta_1 é positivo, então quanto maior a idade de uma pessoa maior o score que ela receberá). Para encontrar os coeficientes Beta_0 e \n",
        "# Beta é resolvido um problema de otimização chamado estimativa de máxima verossimilhança.\n",
        "\n",
        "\n",
        "# 2.3 – Quais indicadores e ferramentas você utilizaria para avaliar a performance/aderência desse modelo? (Descreva os indicadores utilizados)\n",
        "# Eu usária AUC ROC  e KS: Teste de Kolmogorov-Smirnov para medidas de desempenho e como ferrantas gráficos de distribuição de risco utilizando-se faixas do score. Uma das medidas mais comuns de avaliação \n",
        "# em um problema de classificação é a acurácia, porém quando se trata de credit scoring usualmente é mais importante saber a capacidade do score de ranquear melhor os \n",
        "# clientes bons pagadores em relação aos inadimplentes, informação que não é provida pela acurácia. Por outro lado a AUC e KS são medidas que refletem esse objetivo, \n",
        "# sendo a  pirimeira mais utilizada no contexto de modelagem e a segunda como um indicador bastante conhecido e acompanhado no mercado de crédito. \n",
        "# Em conjunto com as métricas de desempenho, podem ser avaliados também como ferramentas gráficos de distribuição de risco utilizando-se faixas do score. A motivação por trás dessa visualização está\n",
        "# na forma como as decisões de concessão de crédito são tomadas de acordo com o risco de cada cliente."
      ],
      "execution_count": null,
      "outputs": []
    },
    {
      "cell_type": "code",
      "metadata": {
        "id": "k1Ideij4NJOG"
      },
      "source": [
        ""
      ],
      "execution_count": null,
      "outputs": []
    }
  ]
}